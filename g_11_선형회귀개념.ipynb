{
  "nbformat": 4,
  "nbformat_minor": 0,
  "metadata": {
    "kernelspec": {
      "display_name": "Python 3",
      "language": "python",
      "name": "python3"
    },
    "language_info": {
      "codemirror_mode": {
        "name": "ipython",
        "version": 3
      },
      "file_extension": ".py",
      "mimetype": "text/x-python",
      "name": "python",
      "nbconvert_exporter": "python",
      "pygments_lexer": "ipython3",
      "version": "3.6.6"
    },
    "colab": {
      "name": "g_11_선형회귀개념.ipynb",
      "provenance": [],
      "collapsed_sections": [],
      "include_colab_link": true
    }
  },
  "cells": [
    {
      "cell_type": "markdown",
      "metadata": {
        "id": "view-in-github",
        "colab_type": "text"
      },
      "source": [
        "<a href=\"https://colab.research.google.com/github/leehw10/test/blob/master/g_11_%E1%84%89%E1%85%A5%E1%86%AB%E1%84%92%E1%85%A7%E1%86%BC%E1%84%92%E1%85%AC%E1%84%80%E1%85%B1%EA%B0%9C%EB%85%90.ipynb\" target=\"_parent\"><img src=\"https://colab.research.google.com/assets/colab-badge.svg\" alt=\"Open In Colab\"/></a>"
      ]
    },
    {
      "cell_type": "markdown",
      "metadata": {
        "id": "Dji53O40dPED",
        "colab_type": "text"
      },
      "source": [
        "선형회귀\n",
        "==\n",
        "- 선형회귀 함수사용\n",
        "- 경사하강법 동작 이해"
      ]
    },
    {
      "cell_type": "markdown",
      "metadata": {
        "id": "eT71GBzTd_kG",
        "colab_type": "text"
      },
      "source": [
        "## 선형회귀 함수 사용법"
      ]
    },
    {
      "cell_type": "code",
      "metadata": {
        "id": "OhhpOOGhdPEG",
        "colab_type": "code",
        "outputId": "26650709-ebe8-4b0c-8302-9985098bb5d6",
        "colab": {
          "base_uri": "https://localhost:8080/",
          "height": 282
        }
      },
      "source": [
        "import numpy as np\n",
        "import pandas as pd\n",
        "import matplotlib.pyplot as plt\n",
        "%matplotlib inline\n",
        "%config InlineBackend.figure_format = 'retina'\n",
        "\n",
        "n_samples = 200\n",
        "x = np.random.randn(n_samples)\n",
        "\n",
        "# 계수 및 절편\n",
        "w = 2\n",
        "b = 3\n",
        "# 노이지 추가\n",
        "y = w*x + b + np.random.randn(n_samples)*1.5\n",
        "plt.scatter(x,y, s=10)"
      ],
      "execution_count": 47,
      "outputs": [
        {
          "output_type": "execute_result",
          "data": {
            "text/plain": [
              "<matplotlib.collections.PathCollection at 0x7f300472cf98>"
            ]
          },
          "metadata": {
            "tags": []
          },
          "execution_count": 47
        },
        {
          "output_type": "display_data",
          "data": {
            "image/png": "[encoded data removed]",
            "text/plain": [
              "<Figure size 432x288 with 1 Axes>"
            ]
          },
          "metadata": {
            "tags": [],
            "image/png": {
              "width": 370,
              "height": 248
            }
          }
        }
      ]
    },
    {
      "cell_type": "code",
      "metadata": {
        "id": "-_G1Qr6TdPEM",
        "colab_type": "code",
        "outputId": "15df1772-5190-4714-c7fc-dc754f79e196",
        "colab": {
          "base_uri": "https://localhost:8080/",
          "height": 52
        }
      },
      "source": [
        "np.corrcoef(x,y)"
      ],
      "execution_count": 9,
      "outputs": [
        {
          "output_type": "execute_result",
          "data": {
            "text/plain": [
              "array([[1.        , 0.81321331],\n",
              "       [0.81321331, 1.        ]])"
            ]
          },
          "metadata": {
            "tags": []
          },
          "execution_count": 9
        }
      ]
    },
    {
      "cell_type": "code",
      "metadata": {
        "id": "fOS00Kl4smeS",
        "colab_type": "code",
        "colab": {
          "base_uri": "https://localhost:8080/",
          "height": 70
        },
        "outputId": "4a47166f-1286-4969-c0d5-d4f62560dff9"
      },
      "source": [
        "t = np.arange(12)\n",
        "t.reshape(3,4)\n"
      ],
      "execution_count": 22,
      "outputs": [
        {
          "output_type": "execute_result",
          "data": {
            "text/plain": [
              "array([[ 0,  1,  2,  3],\n",
              "       [ 4,  5,  6,  7],\n",
              "       [ 8,  9, 10, 11]])"
            ]
          },
          "metadata": {
            "tags": []
          },
          "execution_count": 22
        }
      ]
    },
    {
      "cell_type": "code",
      "metadata": {
        "id": "jNa4akPSdPEQ",
        "colab_type": "code",
        "outputId": "3f339383-0507-482f-c616-1bc078c49fa0",
        "colab": {
          "base_uri": "https://localhost:8080/",
          "height": 52
        }
      },
      "source": [
        "from sklearn.linear_model import LinearRegression\n",
        "leg = LinearRegression()   # 생성자 , constructor, 객체, 모델 생성\n",
        "leg.fit(x.reshape(-1,1), y)  # 학습, GD 최적화기 사용, MSE, reshape(-1,1) : 1차원을 2차원으로 보이도록 설정\n",
        "print(leg.coef_)\n",
        "print(leg.intercept_)"
      ],
      "execution_count": 36,
      "outputs": [
        {
          "output_type": "stream",
          "text": [
            "[2.04734989]\n",
            "2.9137809835936466\n"
          ],
          "name": "stdout"
        }
      ]
    },
    {
      "cell_type": "code",
      "metadata": {
        "id": "ejt5TygKx72L",
        "colab_type": "code",
        "colab": {}
      },
      "source": [
        "\n"
      ],
      "execution_count": 0,
      "outputs": []
    },
    {
      "cell_type": "markdown",
      "metadata": {
        "id": "KcCTA465e70_",
        "colab_type": "text"
      },
      "source": [
        "## 모델을 예측에 사용하기"
      ]
    },
    {
      "cell_type": "code",
      "metadata": {
        "id": "WWkkUZaWeuik",
        "colab_type": "code",
        "outputId": "f914c103-c2ff-4d40-833d-b01322e2b147",
        "colab": {
          "base_uri": "https://localhost:8080/",
          "height": 34
        }
      },
      "source": [
        "leg.predict([[1],[5],[10]])"
      ],
      "execution_count": 35,
      "outputs": [
        {
          "output_type": "execute_result",
          "data": {
            "text/plain": [
              "array([ 4.00094251,  9.77652497, 16.99600304])"
            ]
          },
          "metadata": {
            "tags": []
          },
          "execution_count": 35
        }
      ]
    },
    {
      "cell_type": "markdown",
      "metadata": {
        "id": "rz97pUnieFG1",
        "colab_type": "text"
      },
      "source": [
        "## 경사하강법 구현"
      ]
    },
    {
      "cell_type": "markdown",
      "metadata": {
        "colab_type": "text",
        "id": "hRjW17p9d7tF"
      },
      "source": [
        "변수가 1개인 경우\n",
        "--"
      ]
    },
    {
      "cell_type": "code",
      "metadata": {
        "scrolled": false,
        "colab_type": "code",
        "outputId": "8e5e10dc-a6ec-4dae-91ce-d7caa35238d3",
        "id": "o5UNgpdNd7tV",
        "colab": {
          "base_uri": "https://localhost:8080/",
          "height": 194
        }
      },
      "source": [
        "num_epoch = 10\n",
        "lr = 1.0     # learning rate, 너무 크면 발산함\n",
        "\n",
        "w = np.random.uniform()\n",
        "b = np.random.uniform()\n",
        "\n",
        "for epoch in range(num_epoch):\n",
        "    y_pred = w*x + b\n",
        "    error = np.abs(y_pred - y).mean()\n",
        "    print(f\"{epoch:2} w1 = {w:.6f}, b = {b:.6f} , error = {error:.6f}\")\n",
        "\n",
        "    w = w - lr*((y_pred - y)* x).mean()\n",
        "    b = b - lr*((y_pred - y)).mean()"
      ],
      "execution_count": 56,
      "outputs": [
        {
          "output_type": "stream",
          "text": [
            " 0 w1 = 0.278722, b = 0.656647 , error = 4.162999\n",
            " 1 w1 = -0.365855, b = 3.787357 , error = 3.192193\n",
            " 2 w1 = -0.184969, b = 3.732955 , error = 3.196678\n",
            " 3 w1 = -0.166171, b = 3.748222 , error = 3.199108\n",
            " 4 w1 = -0.162452, b = 3.749808 , error = 3.199474\n",
            " 5 w1 = -0.161838, b = 3.750122 , error = 3.199539\n",
            " 6 w1 = -0.161732, b = 3.750174 , error = 3.199550\n",
            " 7 w1 = -0.161714, b = 3.750183 , error = 3.199552\n",
            " 8 w1 = -0.161710, b = 3.750185 , error = 3.199552\n",
            " 9 w1 = -0.161710, b = 3.750185 , error = 3.199552\n"
          ],
          "name": "stdout"
        }
      ]
    },
    {
      "cell_type": "markdown",
      "metadata": {
        "id": "eu6hl1RrdPET",
        "colab_type": "text"
      },
      "source": [
        "변수가 2개인 경우\n",
        "--"
      ]
    },
    {
      "cell_type": "code",
      "metadata": {
        "id": "uMvk79oHdPEU",
        "colab_type": "code",
        "outputId": "7bd5f584-327b-44eb-de91-fad128c044bc",
        "colab": {
          "base_uri": "https://localhost:8080/",
          "height": 52
        }
      },
      "source": [
        "n_samples = 200\n",
        "x1 = np.random.randn(n_samples)\n",
        "x2 = np.random.randn(n_samples)\n",
        "\n",
        "y = 2 * x1 + 3 * x2 + 4 + np.random.randn(n_samples)\n",
        "\n",
        "leg = LinearRegression()\n",
        "X = pd.DataFrame({'x1':x1, 'x2':x2})\n",
        "leg.fit(X, y)\n",
        "\n",
        "print(leg.coef_)\n",
        "print(leg.intercept_)"
      ],
      "execution_count": 50,
      "outputs": [
        {
          "output_type": "stream",
          "text": [
            "[1.9910581  3.02545323]\n",
            "4.005233966700463\n"
          ],
          "name": "stdout"
        }
      ]
    },
    {
      "cell_type": "code",
      "metadata": {
        "id": "s32v7aQudPEY",
        "colab_type": "code",
        "outputId": "20548493-c26f-4e42-f8a4-94b614af6535",
        "colab": {
          "base_uri": "https://localhost:8080/",
          "height": 34
        }
      },
      "source": [
        "leg.score(X,y)"
      ],
      "execution_count": 0,
      "outputs": [
        {
          "output_type": "execute_result",
          "data": {
            "text/plain": [
              "0.9232498694482834"
            ]
          },
          "metadata": {
            "tags": []
          },
          "execution_count": 14
        }
      ]
    },
    {
      "cell_type": "markdown",
      "metadata": {
        "id": "ALIlKV_jdPEc",
        "colab_type": "text"
      },
      "source": [
        "경사하강법\n",
        "--"
      ]
    },
    {
      "cell_type": "code",
      "metadata": {
        "scrolled": false,
        "id": "o-aYcmQOdPEd",
        "colab_type": "code",
        "outputId": "3bbb0227-588a-4c2a-f513-214af9f222d8",
        "colab": {
          "base_uri": "https://localhost:8080/",
          "height": 194
        }
      },
      "source": [
        "num_epoch = 10\n",
        "lr = 1  \n",
        "\n",
        "w1 = np.random.uniform()\n",
        "w2 = np.random.uniform()\n",
        "b = np.random.uniform()\n",
        "\n",
        "for epoch in range(num_epoch):\n",
        "    y_pred = w1*x1 + w2*x2 + b\n",
        "    error = np.abs(y_pred - y).mean()\n",
        "    print(f\"{epoch:2} w1 = {w1:.6f},  w2 = {w2:.6f}, b = {b:.6f} , error = {error:.6f}\")\n",
        "\n",
        "    w1 = w1 - lr*((y_pred - y)* x1).mean()\n",
        "    w2 = w2 - lr*((y_pred - y)* x2).mean()\n",
        "    b = b - lr*((y_pred - y)).mean()"
      ],
      "execution_count": 53,
      "outputs": [
        {
          "output_type": "stream",
          "text": [
            " 0 w1 = 0.082268,  w2 = 0.854378, b = 0.349484 , error = 3.963681\n",
            " 1 w1 = 1.876926,  w2 = 3.413177, b = 3.785908 , error = 0.874158\n",
            " 2 w1 = 1.981138,  w2 = 2.944401, b = 4.000706 , error = 0.792706\n",
            " 3 w1 = 1.992263,  w2 = 3.041759, b = 4.002937 , error = 0.791905\n",
            " 4 w1 = 1.990601,  w2 = 3.022124, b = 4.005620 , error = 0.791668\n",
            " 5 w1 = 1.991168,  w2 = 3.026133, b = 4.005135 , error = 0.791714\n",
            " 6 w1 = 1.991032,  w2 = 3.025314, b = 4.005256 , error = 0.791704\n",
            " 7 w1 = 1.991064,  w2 = 3.025482, b = 4.005229 , error = 0.791706\n",
            " 8 w1 = 1.991057,  w2 = 3.025447, b = 4.005235 , error = 0.791706\n",
            " 9 w1 = 1.991058,  w2 = 3.025454, b = 4.005234 , error = 0.791706\n"
          ],
          "name": "stdout"
        }
      ]
    },
    {
      "cell_type": "code",
      "metadata": {
        "id": "SzI_9y8bdPEl",
        "colab_type": "code",
        "colab": {}
      },
      "source": [
        ""
      ],
      "execution_count": 0,
      "outputs": []
    },
    {
      "cell_type": "code",
      "metadata": {
        "id": "x-3xzT1sdPEo",
        "colab_type": "code",
        "colab": {}
      },
      "source": [
        ""
      ],
      "execution_count": 0,
      "outputs": []
    }
  ]
}