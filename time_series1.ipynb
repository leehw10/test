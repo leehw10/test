{
  "cells": [
    {
      "cell_type": "markdown",
      "metadata": {
        "id": "view-in-github",
        "colab_type": "text"
      },
      "source": [
        "<a href=\"https://colab.research.google.com/github/leehw10/test/blob/master/time_series1.ipynb\" target=\"_parent\"><img src=\"https://colab.research.google.com/assets/colab-badge.svg\" alt=\"Open In Colab\"/></a>"
      ]
    },
    {
      "cell_type": "markdown",
      "metadata": {
        "id": "0_u65KxRnSVL"
      },
      "source": [
        "# Introduction of time series dataset"
      ]
    },
    {
      "cell_type": "code",
      "execution_count": 1,
      "metadata": {
        "execution": {
          "iopub.execute_input": "2022-01-10T03:46:56.585164Z",
          "iopub.status.busy": "2022-01-10T03:46:56.584298Z",
          "iopub.status.idle": "2022-01-10T03:46:56.589988Z",
          "shell.execute_reply": "2022-01-10T03:46:56.589075Z",
          "shell.execute_reply.started": "2022-01-10T03:46:56.585134Z"
        },
        "id": "mrpYqMfknSVN"
      },
      "outputs": [],
      "source": [
        "import numpy as np\n",
        "import pandas as pd\n",
        "import matplotlib.pyplot as plt\n",
        "import io"
      ]
    },
    {
      "cell_type": "code",
      "execution_count": 2,
      "metadata": {
        "colab": {
          "base_uri": "https://localhost:8080/"
        },
        "id": "bR3Qa1qQnSVO",
        "outputId": "993e3327-d6af-4e68-f299-f179a495ebbe"
      },
      "outputs": [
        {
          "output_type": "stream",
          "name": "stdout",
          "text": [
            "/content\n"
          ]
        }
      ],
      "source": [
        "# check a current path\n",
        "import os\n",
        "print(os.getcwd())"
      ]
    },
    {
      "cell_type": "code",
      "execution_count": 5,
      "metadata": {
        "id": "FuuPJN5eoBKF"
      },
      "outputs": [],
      "source": [
        "from google.colab import files\n",
        "# myfile = files.upload()\n",
        "airline_data = pd.read_csv('https://raw.githubusercontent.com/Sangmann/lg/main/international-airline-passengers.csv')"
      ]
    },
    {
      "cell_type": "code",
      "execution_count": null,
      "metadata": {
        "execution": {
          "iopub.execute_input": "2022-01-10T03:46:56.591448Z",
          "iopub.status.busy": "2022-01-10T03:46:56.591255Z",
          "iopub.status.idle": "2022-01-10T03:46:56.61626Z",
          "shell.execute_reply": "2022-01-10T03:46:56.615314Z",
          "shell.execute_reply.started": "2022-01-10T03:46:56.591422Z"
        },
        "id": "xDHUEZ8anSVP"
      },
      "outputs": [],
      "source": [
        "# read a data\n",
        "airline_data = pd.read_csv(io.BytesIO(myfile['international-airline-passengers.csv']))"
      ]
    },
    {
      "cell_type": "code",
      "execution_count": null,
      "metadata": {
        "execution": {
          "iopub.execute_input": "2022-01-10T03:46:56.618891Z",
          "iopub.status.busy": "2022-01-10T03:46:56.618546Z",
          "iopub.status.idle": "2022-01-10T03:46:56.636035Z",
          "shell.execute_reply": "2022-01-10T03:46:56.635168Z",
          "shell.execute_reply.started": "2022-01-10T03:46:56.618855Z"
        },
        "id": "QrM61A0lnSVP"
      },
      "outputs": [],
      "source": [
        "airline_data.head(5)"
      ]
    },
    {
      "cell_type": "code",
      "execution_count": null,
      "metadata": {
        "execution": {
          "iopub.execute_input": "2022-01-10T03:46:56.637613Z",
          "iopub.status.busy": "2022-01-10T03:46:56.637396Z",
          "iopub.status.idle": "2022-01-10T03:46:56.643235Z",
          "shell.execute_reply": "2022-01-10T03:46:56.642608Z",
          "shell.execute_reply.started": "2022-01-10T03:46:56.637583Z"
        },
        "id": "RoO5K5UxnSVP"
      },
      "outputs": [],
      "source": [
        "# check column names\n",
        "airline_data.columns"
      ]
    },
    {
      "cell_type": "code",
      "execution_count": null,
      "metadata": {
        "execution": {
          "iopub.execute_input": "2022-01-10T03:46:56.644862Z",
          "iopub.status.busy": "2022-01-10T03:46:56.644169Z",
          "iopub.status.idle": "2022-01-10T03:46:56.657879Z",
          "shell.execute_reply": "2022-01-10T03:46:56.656557Z",
          "shell.execute_reply.started": "2022-01-10T03:46:56.644833Z"
        },
        "id": "59P4UGbYnSVQ"
      },
      "outputs": [],
      "source": [
        "airline_data.columns[1]"
      ]
    },
    {
      "cell_type": "code",
      "execution_count": null,
      "metadata": {
        "execution": {
          "iopub.execute_input": "2022-01-10T03:46:56.659693Z",
          "iopub.status.busy": "2022-01-10T03:46:56.659033Z",
          "iopub.status.idle": "2022-01-10T03:46:56.678972Z",
          "shell.execute_reply": "2022-01-10T03:46:56.678106Z",
          "shell.execute_reply.started": "2022-01-10T03:46:56.659669Z"
        },
        "id": "U3adyDCdnSVQ"
      },
      "outputs": [],
      "source": [
        "# change a column name\n",
        "airline_data.rename(columns={airline_data.columns[1]: 'passengers'}, inplace=True)\n",
        "airline_data.columns[1]"
      ]
    },
    {
      "cell_type": "code",
      "execution_count": null,
      "metadata": {
        "id": "Vcetpk1pnSVR"
      },
      "outputs": [],
      "source": [
        "# check 'NaN' in dataset\n",
        "airline_data.isnull()"
      ]
    },
    {
      "cell_type": "code",
      "execution_count": null,
      "metadata": {
        "id": "irT3niMmnSVR"
      },
      "outputs": [],
      "source": [
        "# count 'NaN' in dataset\n",
        "airline_data.isnull().sum()"
      ]
    },
    {
      "cell_type": "code",
      "execution_count": null,
      "metadata": {
        "execution": {
          "iopub.execute_input": "2022-01-10T03:46:56.681912Z",
          "iopub.status.busy": "2022-01-10T03:46:56.680752Z",
          "iopub.status.idle": "2022-01-10T03:46:56.699728Z",
          "shell.execute_reply": "2022-01-10T03:46:56.698967Z",
          "shell.execute_reply.started": "2022-01-10T03:46:56.681834Z"
        },
        "id": "qNxwWpXenSVS"
      },
      "outputs": [],
      "source": [
        "airline_data.tail(5)"
      ]
    },
    {
      "cell_type": "code",
      "execution_count": null,
      "metadata": {
        "execution": {
          "iopub.execute_input": "2022-01-10T03:46:56.701236Z",
          "iopub.status.busy": "2022-01-10T03:46:56.701028Z",
          "iopub.status.idle": "2022-01-10T03:46:56.724221Z",
          "shell.execute_reply": "2022-01-10T03:46:56.723105Z",
          "shell.execute_reply.started": "2022-01-10T03:46:56.701208Z"
        },
        "id": "69TGER_pnSVS"
      },
      "outputs": [],
      "source": [
        "# drop 'NaN' in dataset\n",
        "airline_data.dropna(inplace=True)\n",
        "airline_data.isnull().sum()"
      ]
    },
    {
      "cell_type": "code",
      "execution_count": null,
      "metadata": {
        "execution": {
          "iopub.execute_input": "2022-01-10T03:46:56.783734Z",
          "iopub.status.busy": "2022-01-10T03:46:56.783321Z",
          "iopub.status.idle": "2022-01-10T03:46:56.796349Z",
          "shell.execute_reply": "2022-01-10T03:46:56.795159Z",
          "shell.execute_reply.started": "2022-01-10T03:46:56.783696Z"
        },
        "id": "97WFwK9vnSVS"
      },
      "outputs": [],
      "source": [
        "airline_data.tail(5)"
      ]
    },
    {
      "cell_type": "code",
      "execution_count": null,
      "metadata": {
        "execution": {
          "iopub.execute_input": "2022-01-10T03:46:56.798856Z",
          "iopub.status.busy": "2022-01-10T03:46:56.79824Z",
          "iopub.status.idle": "2022-01-10T03:46:56.816523Z",
          "shell.execute_reply": "2022-01-10T03:46:56.815899Z",
          "shell.execute_reply.started": "2022-01-10T03:46:56.798829Z"
        },
        "id": "LaQ3DWXonSVS"
      },
      "outputs": [],
      "source": [
        "airline_data.set_index('Month', inplace=True)\n",
        "airline_data.index=pd.to_datetime(airline_data.index)\n",
        "airline_data"
      ]
    },
    {
      "cell_type": "code",
      "execution_count": null,
      "metadata": {
        "execution": {
          "iopub.execute_input": "2022-01-10T03:46:56.818491Z",
          "iopub.status.busy": "2022-01-10T03:46:56.817615Z",
          "iopub.status.idle": "2022-01-10T03:46:57.060509Z",
          "shell.execute_reply": "2022-01-10T03:46:57.059817Z",
          "shell.execute_reply.started": "2022-01-10T03:46:56.818377Z"
        },
        "id": "UA402DZZnSVT"
      },
      "outputs": [],
      "source": [
        "# plotting\n",
        "fig = plt.figure(figsize=(12,8))\n",
        "plt.plot(airline_data['passengers'])\n",
        "plt.title('International airline passengers', fontsize=12)\n",
        "plt.xlabel('Month', fontsize=12)\n",
        "plt.ylabel('Passengers', fontsize=12)\n",
        "\n",
        "plt.show()"
      ]
    },
    {
      "cell_type": "markdown",
      "metadata": {
        "id": "33WpYy3GnSVT"
      },
      "source": [
        "# Decomposition of time series data"
      ]
    },
    {
      "cell_type": "code",
      "execution_count": null,
      "metadata": {
        "id": "YsUuMZxWpMJA"
      },
      "outputs": [],
      "source": [
        "pip install statsmodels"
      ]
    },
    {
      "cell_type": "code",
      "execution_count": null,
      "metadata": {
        "execution": {
          "iopub.execute_input": "2022-01-10T03:46:57.061939Z",
          "iopub.status.busy": "2022-01-10T03:46:57.061573Z",
          "iopub.status.idle": "2022-01-10T03:46:58.107791Z",
          "shell.execute_reply": "2022-01-10T03:46:58.107049Z",
          "shell.execute_reply.started": "2022-01-10T03:46:57.061914Z"
        },
        "id": "fWs-YH0MnSVT"
      },
      "outputs": [],
      "source": [
        "from statsmodels.tsa.seasonal import seasonal_decompose"
      ]
    },
    {
      "cell_type": "code",
      "execution_count": null,
      "metadata": {
        "execution": {
          "iopub.execute_input": "2022-01-10T03:46:58.109951Z",
          "iopub.status.busy": "2022-01-10T03:46:58.109339Z",
          "iopub.status.idle": "2022-01-10T03:46:58.114756Z",
          "shell.execute_reply": "2022-01-10T03:46:58.11429Z",
          "shell.execute_reply.started": "2022-01-10T03:46:58.109921Z"
        },
        "id": "kW2YrlQInSVT"
      },
      "outputs": [],
      "source": [
        "multiple_results = seasonal_decompose(airline_data['passengers'], model='multiplicable')"
      ]
    },
    {
      "cell_type": "code",
      "execution_count": null,
      "metadata": {
        "execution": {
          "iopub.execute_input": "2022-01-10T03:46:58.116098Z",
          "iopub.status.busy": "2022-01-10T03:46:58.115858Z",
          "iopub.status.idle": "2022-01-10T03:46:58.674523Z",
          "shell.execute_reply": "2022-01-10T03:46:58.673741Z",
          "shell.execute_reply.started": "2022-01-10T03:46:58.116077Z"
        },
        "id": "2jMG8p9LnSVU"
      },
      "outputs": [],
      "source": [
        "# Decomposition plotting\n",
        "plt.rcParams['figure.figsize']=[12,8]\n",
        "multiple_results.plot()\n",
        "plt.show()"
      ]
    },
    {
      "cell_type": "code",
      "execution_count": null,
      "metadata": {
        "execution": {
          "iopub.execute_input": "2022-01-10T03:46:58.676253Z",
          "iopub.status.busy": "2022-01-10T03:46:58.675738Z",
          "iopub.status.idle": "2022-01-10T03:46:58.908738Z",
          "shell.execute_reply": "2022-01-10T03:46:58.908171Z",
          "shell.execute_reply.started": "2022-01-10T03:46:58.67622Z"
        },
        "id": "4rOKtA8nnSVU"
      },
      "outputs": [],
      "source": [
        "multiple_results.trend.plot()"
      ]
    },
    {
      "cell_type": "code",
      "execution_count": null,
      "metadata": {
        "execution": {
          "iopub.execute_input": "2022-01-10T03:46:58.910479Z",
          "iopub.status.busy": "2022-01-10T03:46:58.910089Z",
          "iopub.status.idle": "2022-01-10T03:46:59.133001Z",
          "shell.execute_reply": "2022-01-10T03:46:59.131943Z",
          "shell.execute_reply.started": "2022-01-10T03:46:58.910443Z"
        },
        "id": "KuZrlwnDnSVU"
      },
      "outputs": [],
      "source": [
        "multiple_results.seasonal.plot()"
      ]
    },
    {
      "cell_type": "code",
      "execution_count": null,
      "metadata": {
        "execution": {
          "iopub.execute_input": "2022-01-10T03:46:59.134621Z",
          "iopub.status.busy": "2022-01-10T03:46:59.134357Z",
          "iopub.status.idle": "2022-01-10T03:46:59.378222Z",
          "shell.execute_reply": "2022-01-10T03:46:59.376646Z",
          "shell.execute_reply.started": "2022-01-10T03:46:59.134598Z"
        },
        "id": "tnI67V_PnSVU"
      },
      "outputs": [],
      "source": [
        "multiple_results.resid.plot()"
      ]
    },
    {
      "cell_type": "code",
      "execution_count": null,
      "metadata": {
        "execution": {
          "iopub.execute_input": "2022-01-10T03:46:59.380054Z",
          "iopub.status.busy": "2022-01-10T03:46:59.379743Z",
          "iopub.status.idle": "2022-01-10T03:46:59.387564Z",
          "shell.execute_reply": "2022-01-10T03:46:59.386654Z",
          "shell.execute_reply.started": "2022-01-10T03:46:59.380014Z"
        },
        "id": "OwQSi-oFnSVU"
      },
      "outputs": [],
      "source": [
        "addict_results = seasonal_decompose(airline_data['passengers'], model='additive')"
      ]
    },
    {
      "cell_type": "code",
      "execution_count": null,
      "metadata": {
        "execution": {
          "iopub.execute_input": "2022-01-10T03:46:59.389147Z",
          "iopub.status.busy": "2022-01-10T03:46:59.388751Z",
          "iopub.status.idle": "2022-01-10T03:47:00.119263Z",
          "shell.execute_reply": "2022-01-10T03:47:00.11795Z",
          "shell.execute_reply.started": "2022-01-10T03:46:59.38912Z"
        },
        "id": "P22OwXZunSVV"
      },
      "outputs": [],
      "source": [
        "plt.rcParams['figure.figsize']=[12,8]\n",
        "addict_results.plot()\n",
        "plt.show()"
      ]
    },
    {
      "cell_type": "markdown",
      "metadata": {
        "id": "s8IYl7X1nSVV"
      },
      "source": [
        "# Evaluation metrics"
      ]
    },
    {
      "cell_type": "code",
      "execution_count": null,
      "metadata": {
        "execution": {
          "iopub.execute_input": "2022-01-10T03:47:00.120655Z",
          "iopub.status.busy": "2022-01-10T03:47:00.120496Z",
          "iopub.status.idle": "2022-01-10T03:47:00.409784Z",
          "shell.execute_reply": "2022-01-10T03:47:00.409038Z",
          "shell.execute_reply.started": "2022-01-10T03:47:00.120633Z"
        },
        "id": "5zsi5RfanSVV"
      },
      "outputs": [],
      "source": [
        "from sklearn.metrics import mean_absolute_error, mean_squared_error "
      ]
    },
    {
      "cell_type": "code",
      "execution_count": null,
      "metadata": {
        "execution": {
          "iopub.execute_input": "2022-01-10T03:47:00.41113Z",
          "iopub.status.busy": "2022-01-10T03:47:00.410956Z",
          "iopub.status.idle": "2022-01-10T03:47:00.419694Z",
          "shell.execute_reply": "2022-01-10T03:47:00.418363Z",
          "shell.execute_reply.started": "2022-01-10T03:47:00.411108Z"
        },
        "id": "zFjGC96pnSVV"
      },
      "outputs": [],
      "source": [
        "example_data = pd.read_csv(io.BytesIO(myfile['example-mad-mae.csv']), index_col=0)"
      ]
    },
    {
      "cell_type": "code",
      "execution_count": null,
      "metadata": {
        "id": "-KnsLoZLnSVV"
      },
      "outputs": [],
      "source": [
        "example_data.head(5)"
      ]
    },
    {
      "cell_type": "code",
      "execution_count": null,
      "metadata": {
        "id": "Y8fZm6XYnSVV"
      },
      "outputs": [],
      "source": [
        "example_data.columns"
      ]
    },
    {
      "cell_type": "code",
      "execution_count": null,
      "metadata": {
        "execution": {
          "iopub.execute_input": "2022-01-10T03:47:00.423241Z",
          "iopub.status.busy": "2022-01-10T03:47:00.422576Z",
          "iopub.status.idle": "2022-01-10T03:47:00.432068Z",
          "shell.execute_reply": "2022-01-10T03:47:00.430702Z",
          "shell.execute_reply.started": "2022-01-10T03:47:00.423214Z"
        },
        "id": "4JZ-UF0EnSVV"
      },
      "outputs": [],
      "source": [
        "def MAPE(y_true, y_pred):\n",
        "    return np.mean(np.abs((y_true - y_pred) / y_true)) *100\n",
        "\n",
        "def MAD(y_true, y_pred):\n",
        "    return np.mean(np.abs(y_true - y_pred))\n",
        "\n",
        "def MSE(y_true, y_pred):\n",
        "    return np.mean(np.square(y_true - y_pred))"
      ]
    },
    {
      "cell_type": "markdown",
      "metadata": {
        "id": "m0u7AWaBnSVW"
      },
      "source": [
        "#### MAD"
      ]
    },
    {
      "cell_type": "code",
      "execution_count": null,
      "metadata": {
        "execution": {
          "iopub.execute_input": "2022-01-10T03:47:00.448601Z",
          "iopub.status.busy": "2022-01-10T03:47:00.447924Z",
          "iopub.status.idle": "2022-01-10T03:47:00.462424Z",
          "shell.execute_reply": "2022-01-10T03:47:00.461876Z",
          "shell.execute_reply.started": "2022-01-10T03:47:00.448576Z"
        },
        "id": "VtPpyWYhnSVW"
      },
      "outputs": [],
      "source": [
        "# caluate a MAD(MAE)\n",
        "mad1 = MAD(example_data['actual_y'], example_data['pred_y'])\n",
        "print(f'MAD by coding = {mad1:.2f}')\n",
        "mad2 = mean_absolute_error(example_data['actual_y'], example_data['pred_y'])\n",
        "print(f'MAD in package = {mad2:.2f}')"
      ]
    },
    {
      "cell_type": "markdown",
      "metadata": {
        "id": "DaYb6MBMnSVW"
      },
      "source": [
        "#### MSE"
      ]
    },
    {
      "cell_type": "code",
      "execution_count": null,
      "metadata": {
        "execution": {
          "iopub.execute_input": "2022-01-10T03:47:00.464263Z",
          "iopub.status.busy": "2022-01-10T03:47:00.463338Z",
          "iopub.status.idle": "2022-01-10T03:47:00.477182Z",
          "shell.execute_reply": "2022-01-10T03:47:00.475895Z",
          "shell.execute_reply.started": "2022-01-10T03:47:00.46423Z"
        },
        "id": "fpcKXUU_nSVW"
      },
      "outputs": [],
      "source": [
        "# calculate a MSE\n",
        "mse1 = MSE(example_data['actual_y'], example_data['pred_y'])\n",
        "print(f'MSE by coding = {mse1:.2f}')\n",
        "mse2 = mean_squared_error(example_data['actual_y'], example_data['pred_y'])\n",
        "print(f'MSE in package = {mse2:.2f}')"
      ]
    },
    {
      "cell_type": "markdown",
      "metadata": {
        "id": "A_2cl1_mnSVW"
      },
      "source": [
        "#### MAPE"
      ]
    },
    {
      "cell_type": "code",
      "execution_count": null,
      "metadata": {
        "execution": {
          "iopub.execute_input": "2022-01-10T03:47:00.47909Z",
          "iopub.status.busy": "2022-01-10T03:47:00.478859Z",
          "iopub.status.idle": "2022-01-10T03:47:00.493822Z",
          "shell.execute_reply": "2022-01-10T03:47:00.493217Z",
          "shell.execute_reply.started": "2022-01-10T03:47:00.479061Z"
        },
        "id": "hvaJVKQhnSVW"
      },
      "outputs": [],
      "source": [
        "# calculate a MAPE\n",
        "mape = MAPE(example_data['actual_y'], example_data['pred_y'])\n",
        "print(f'MAPE by coding = {mape:.2f}')"
      ]
    },
    {
      "cell_type": "markdown",
      "metadata": {
        "id": "62i_Mxf7nSVW"
      },
      "source": [
        "# No-trend, linear-trend, quadratic-trend model"
      ]
    },
    {
      "cell_type": "markdown",
      "metadata": {
        "id": "MR7ynIbLnSVX"
      },
      "source": [
        "#### 1. no-trend model"
      ]
    },
    {
      "cell_type": "code",
      "execution_count": null,
      "metadata": {
        "execution": {
          "iopub.execute_input": "2022-01-10T03:47:00.495101Z",
          "iopub.status.busy": "2022-01-10T03:47:00.494583Z",
          "iopub.status.idle": "2022-01-10T03:47:00.51268Z",
          "shell.execute_reply": "2022-01-10T03:47:00.512037Z",
          "shell.execute_reply.started": "2022-01-10T03:47:00.495075Z"
        },
        "id": "i7nz-6FZnSVX"
      },
      "outputs": [],
      "source": [
        "no_trend_data = pd.read_csvexample_data = pd.read_csv(io.BytesIO(myfile['no-trend-data.csv']))"
      ]
    },
    {
      "cell_type": "code",
      "execution_count": null,
      "metadata": {
        "id": "cJVMz1zmnSVX"
      },
      "outputs": [],
      "source": [
        "no_trend_data.head(5)"
      ]
    },
    {
      "cell_type": "code",
      "execution_count": null,
      "metadata": {
        "execution": {
          "iopub.execute_input": "2022-01-10T03:47:00.514044Z",
          "iopub.status.busy": "2022-01-10T03:47:00.513687Z",
          "iopub.status.idle": "2022-01-10T03:47:00.525228Z",
          "shell.execute_reply": "2022-01-10T03:47:00.524822Z",
          "shell.execute_reply.started": "2022-01-10T03:47:00.514019Z"
        },
        "id": "xZG1Gc1tnSVX"
      },
      "outputs": [],
      "source": [
        "# No-trend model\n",
        "pred_no_trend = (np.mean(no_trend_data['year1']) + np.mean(no_trend_data['year2']))/2\n",
        "print(pred_no_trend)"
      ]
    },
    {
      "cell_type": "code",
      "execution_count": null,
      "metadata": {
        "id": "sfIJ-9i7nSVX"
      },
      "outputs": [],
      "source": [
        "x = pd.concat([no_trend_data['Month'], no_trend_data['Month']+12], axis=0)\n",
        "y1 = pd.concat([no_trend_data['year1'], no_trend_data['year2']], axis=0)\n",
        "y2 = np.full(24, [pred_no_trend])"
      ]
    },
    {
      "cell_type": "code",
      "execution_count": null,
      "metadata": {
        "id": "w5QokVJvnSVX"
      },
      "outputs": [],
      "source": [
        "# plotting predicion value and real value\n",
        "fig = plt.figure(figsize=(12,8))\n",
        "plt.scatter(x, y1, color='b')\n",
        "plt.plot(x, y2, color='r')\n",
        "plt.title('Prediction of \"No-trend model\"', fontsize=12)\n",
        "plt.xlabel('Month', fontsize=12)\n",
        "plt.ylabel('tons', fontsize=12)\n",
        "plt.rc('xtick', labelsize=10)\n",
        "plt.rc('ytick', labelsize=10)\n",
        "plt.show()"
      ]
    },
    {
      "cell_type": "markdown",
      "metadata": {
        "id": "5JTw0_SgnSVX"
      },
      "source": [
        "#### 2. Linear-trend model"
      ]
    },
    {
      "cell_type": "code",
      "execution_count": null,
      "metadata": {
        "execution": {
          "iopub.execute_input": "2022-01-10T03:47:00.526422Z",
          "iopub.status.busy": "2022-01-10T03:47:00.526193Z",
          "iopub.status.idle": "2022-01-10T03:47:00.543652Z",
          "shell.execute_reply": "2022-01-10T03:47:00.542922Z",
          "shell.execute_reply.started": "2022-01-10T03:47:00.526401Z"
        },
        "id": "HwpYwBGFnSVX"
      },
      "outputs": [],
      "source": [
        "linear_data = pd.read_csv(io.BytesIO(myfile['linear-trend-data.csv']))"
      ]
    },
    {
      "cell_type": "code",
      "execution_count": null,
      "metadata": {
        "id": "TCv1X_S-nSVX"
      },
      "outputs": [],
      "source": [
        "linear_data.head(5)"
      ]
    },
    {
      "cell_type": "code",
      "execution_count": null,
      "metadata": {
        "execution": {
          "iopub.execute_input": "2022-01-10T03:47:00.545981Z",
          "iopub.status.busy": "2022-01-10T03:47:00.545468Z",
          "iopub.status.idle": "2022-01-10T03:47:00.852694Z",
          "shell.execute_reply": "2022-01-10T03:47:00.852224Z",
          "shell.execute_reply.started": "2022-01-10T03:47:00.545932Z"
        },
        "id": "IA2budx5nSVY"
      },
      "outputs": [],
      "source": [
        "from statsmodels.formula.api import ols\n",
        "import seaborn as sns"
      ]
    },
    {
      "cell_type": "code",
      "execution_count": null,
      "metadata": {
        "execution": {
          "iopub.execute_input": "2022-01-10T03:47:00.853916Z",
          "iopub.status.busy": "2022-01-10T03:47:00.853481Z",
          "iopub.status.idle": "2022-01-10T03:47:00.879027Z",
          "shell.execute_reply": "2022-01-10T03:47:00.877607Z",
          "shell.execute_reply.started": "2022-01-10T03:47:00.853891Z"
        },
        "id": "QtuITxncnSVY"
      },
      "outputs": [],
      "source": [
        "# lienar-trend model\n",
        "linear_model = ols('Sales ~ Time', data=linear_data).fit()"
      ]
    },
    {
      "cell_type": "code",
      "execution_count": null,
      "metadata": {
        "execution": {
          "iopub.execute_input": "2022-01-10T03:47:00.881088Z",
          "iopub.status.busy": "2022-01-10T03:47:00.88087Z",
          "iopub.status.idle": "2022-01-10T03:47:00.895102Z",
          "shell.execute_reply": "2022-01-10T03:47:00.894517Z",
          "shell.execute_reply.started": "2022-01-10T03:47:00.881066Z"
        },
        "id": "KDy5YTzJnSVY"
      },
      "outputs": [],
      "source": [
        "linear_model.params"
      ]
    },
    {
      "cell_type": "code",
      "execution_count": null,
      "metadata": {
        "execution": {
          "iopub.execute_input": "2022-01-10T03:47:00.896779Z",
          "iopub.status.busy": "2022-01-10T03:47:00.896363Z",
          "iopub.status.idle": "2022-01-10T03:47:00.923196Z",
          "shell.execute_reply": "2022-01-10T03:47:00.922797Z",
          "shell.execute_reply.started": "2022-01-10T03:47:00.896727Z"
        },
        "id": "GBBSKIISnSVY"
      },
      "outputs": [],
      "source": [
        "linear_model.summary()"
      ]
    },
    {
      "cell_type": "code",
      "execution_count": null,
      "metadata": {
        "execution": {
          "iopub.execute_input": "2022-01-10T03:47:00.9269Z",
          "iopub.status.busy": "2022-01-10T03:47:00.92583Z",
          "iopub.status.idle": "2022-01-10T03:47:00.935864Z",
          "shell.execute_reply": "2022-01-10T03:47:00.935417Z",
          "shell.execute_reply.started": "2022-01-10T03:47:00.92686Z"
        },
        "id": "Bk2fDeq3nSVY"
      },
      "outputs": [],
      "source": [
        "pred_linear = linear_model.predict(linear_data['Time'])\n",
        "pred_linear"
      ]
    },
    {
      "cell_type": "code",
      "execution_count": null,
      "metadata": {
        "execution": {
          "iopub.execute_input": "2022-01-10T03:47:00.937647Z",
          "iopub.status.busy": "2022-01-10T03:47:00.937048Z",
          "iopub.status.idle": "2022-01-10T03:47:00.957039Z",
          "shell.execute_reply": "2022-01-10T03:47:00.956348Z",
          "shell.execute_reply.started": "2022-01-10T03:47:00.937615Z"
        },
        "id": "Km2hfmvKnSVY"
      },
      "outputs": [],
      "source": [
        "new_time = pd.DataFrame([25], columns=['Time'])\n",
        "pred_new_time = linear_model.predict(new_time)\n",
        "print(f'predition value when Time = 25 : {pred_new_time[0]:.2f}')"
      ]
    },
    {
      "cell_type": "code",
      "execution_count": null,
      "metadata": {
        "execution": {
          "iopub.execute_input": "2022-01-10T03:47:00.958692Z",
          "iopub.status.busy": "2022-01-10T03:47:00.958469Z",
          "iopub.status.idle": "2022-01-10T03:47:01.217336Z",
          "shell.execute_reply": "2022-01-10T03:47:01.216805Z",
          "shell.execute_reply.started": "2022-01-10T03:47:00.958665Z"
        },
        "id": "9NgoBrcXnSVY"
      },
      "outputs": [],
      "source": [
        "plt.rcParams['figure.figsize'] = (12,8)\n",
        "sns.regplot(x='Time', y='Sales', data=linear_data)\n",
        "plt.show()"
      ]
    },
    {
      "cell_type": "code",
      "execution_count": null,
      "metadata": {
        "id": "8DKDyhkCnSVY"
      },
      "outputs": [],
      "source": [
        "# plotting predicion value and real value\n",
        "fig = plt.figure(figsize=(12,8))\n",
        "plt.scatter(linear_data['Time'], linear_data['Sales'], color='g')\n",
        "plt.plot(linear_data['Time'], pred_linear, color='orange')\n",
        "plt.title('Prediction of \"Linear-trend model\"', fontsize=12)\n",
        "plt.xlabel('Time', fontsize=12)\n",
        "plt.ylabel('Sales', fontsize=12)\n",
        "plt.rc('xtick', labelsize=10)\n",
        "plt.rc('ytick', labelsize=10)\n",
        "plt.show()"
      ]
    },
    {
      "cell_type": "markdown",
      "metadata": {
        "id": "BOPy86yLnSVZ"
      },
      "source": [
        "#### 3. Quadratic-trend model"
      ]
    },
    {
      "cell_type": "code",
      "execution_count": null,
      "metadata": {
        "execution": {
          "iopub.execute_input": "2022-01-10T03:47:01.218558Z",
          "iopub.status.busy": "2022-01-10T03:47:01.218332Z",
          "iopub.status.idle": "2022-01-10T03:47:01.227818Z",
          "shell.execute_reply": "2022-01-10T03:47:01.226611Z",
          "shell.execute_reply.started": "2022-01-10T03:47:01.218536Z"
        },
        "id": "b2fcyojqnSVZ"
      },
      "outputs": [],
      "source": [
        "quadratic_data = pd.read_csv(io.BytesIO(myfile['quadratic-trend-data.csv']))\n",
        "quadratic_data.head(5)"
      ]
    },
    {
      "cell_type": "code",
      "execution_count": null,
      "metadata": {
        "execution": {
          "iopub.execute_input": "2022-01-10T03:47:01.230126Z",
          "iopub.status.busy": "2022-01-10T03:47:01.229172Z",
          "iopub.status.idle": "2022-01-10T03:47:01.250388Z",
          "shell.execute_reply": "2022-01-10T03:47:01.249285Z",
          "shell.execute_reply.started": "2022-01-10T03:47:01.230067Z"
        },
        "id": "2bDtYB-lnSVZ"
      },
      "outputs": [],
      "source": [
        "quadratic_data.columns"
      ]
    },
    {
      "cell_type": "code",
      "execution_count": null,
      "metadata": {
        "execution": {
          "iopub.execute_input": "2022-01-10T03:47:01.251608Z",
          "iopub.status.busy": "2022-01-10T03:47:01.251363Z",
          "iopub.status.idle": "2022-01-10T03:47:01.268427Z",
          "shell.execute_reply": "2022-01-10T03:47:01.267906Z",
          "shell.execute_reply.started": "2022-01-10T03:47:01.251586Z"
        },
        "id": "Z8WATSm0nSVZ"
      },
      "outputs": [],
      "source": [
        "# quadratic-trend model\n",
        "quadratic_model = ols('Loan_request ~ Time+Time_squared', data=quadratic_data).fit()"
      ]
    },
    {
      "cell_type": "code",
      "execution_count": null,
      "metadata": {
        "execution": {
          "iopub.execute_input": "2022-01-10T03:47:01.269839Z",
          "iopub.status.busy": "2022-01-10T03:47:01.269396Z",
          "iopub.status.idle": "2022-01-10T03:47:01.287985Z",
          "shell.execute_reply": "2022-01-10T03:47:01.286902Z",
          "shell.execute_reply.started": "2022-01-10T03:47:01.269806Z"
        },
        "id": "6syxqw_5nSVZ"
      },
      "outputs": [],
      "source": [
        "quadratic_model.summary()"
      ]
    },
    {
      "cell_type": "code",
      "execution_count": null,
      "metadata": {
        "execution": {
          "iopub.execute_input": "2022-01-10T03:47:01.289988Z",
          "iopub.status.busy": "2022-01-10T03:47:01.289662Z",
          "iopub.status.idle": "2022-01-10T03:47:01.30687Z",
          "shell.execute_reply": "2022-01-10T03:47:01.305941Z",
          "shell.execute_reply.started": "2022-01-10T03:47:01.289955Z"
        },
        "id": "AXiiBJEbnSVZ"
      },
      "outputs": [],
      "source": [
        "pred_quadra = quadratic_model.predict(quadratic_data[['Time', 'Time_squared']])\n",
        "pred_quadra"
      ]
    },
    {
      "cell_type": "code",
      "execution_count": null,
      "metadata": {
        "id": "9XJdMlN5nSVZ"
      },
      "outputs": [],
      "source": [
        "# plotting predicion value and real value\n",
        "fig = plt.figure(figsize=(12,8))\n",
        "plt.scatter(quadratic_data['Time'], quadratic_data['Loan_request'], color='royalblue')\n",
        "plt.plot(quadratic_data['Time'], pred_quadra, color='red')\n",
        "plt.title('Prediction of \"Quadratic-trend model\"', fontsize=12)\n",
        "plt.xlabel('Time', fontsize=12)\n",
        "plt.ylabel('Sales', fontsize=12)\n",
        "plt.rc('xtick', labelsize=10)\n",
        "plt.rc('ytick', labelsize=10)\n",
        "plt.show()"
      ]
    },
    {
      "cell_type": "code",
      "execution_count": null,
      "metadata": {
        "id": "aolc8wSsnSVZ"
      },
      "outputs": [],
      "source": [
        "linear_model_Loan = ols('Loan_request ~ Time', data=quadratic_data).fit()\n",
        "pred_linear_Loan = linear_model_Loan.predict(quadratic_data['Time'])\n",
        "\n",
        "# plotting predicion value and real value (two models)\n",
        "fig = plt.figure(figsize=(12,8))\n",
        "plt.scatter(quadratic_data['Time'], quadratic_data['Loan_request'], color='royalblue')\n",
        "plt.plot(quadratic_data['Time'], pred_quadra, color='red')\n",
        "plt.plot(quadratic_data['Time'], pred_linear_Loan, color='green')\n",
        "plt.title('Prediction of \"Quadratic-trend model\"', fontsize=12)\n",
        "plt.xlabel('Time', fontsize=12)\n",
        "plt.ylabel('Sales', fontsize=12)\n",
        "plt.rc('xtick', labelsize=10)\n",
        "plt.rc('ytick', labelsize=10)\n",
        "plt.show()"
      ]
    }
  ],
  "metadata": {
    "colab": {
      "name": "time-series1.ipynb의 사본",
      "provenance": [],
      "include_colab_link": true
    },
    "kernelspec": {
      "display_name": "Python 3 (ipykernel)",
      "language": "python",
      "name": "python3"
    },
    "language_info": {
      "codemirror_mode": {
        "name": "ipython",
        "version": 3
      },
      "file_extension": ".py",
      "mimetype": "text/x-python",
      "name": "python",
      "nbconvert_exporter": "python",
      "pygments_lexer": "ipython3",
      "version": "3.8.12"
    }
  },
  "nbformat": 4,
  "nbformat_minor": 0
}